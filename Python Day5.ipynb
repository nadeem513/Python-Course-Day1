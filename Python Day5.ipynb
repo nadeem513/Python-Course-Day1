{
 "cells": [
  {
   "cell_type": "markdown",
   "id": "7b2c516b-a3b6-47fe-bb73-fc10a5aa71cd",
   "metadata": {},
   "source": [
    "# Conditional Statements\n",
    "This show that we use if else and elif condition to filfull the neccesarsy cndition\n",
    "Sometimes we need a certain condition what our programme done this id refer to condition statements"
   ]
  },
  {
   "cell_type": "markdown",
   "id": "34d451b2-6a35-4f6f-8ff7-549914e22a37",
   "metadata": {},
   "source": [
    "# Basic Sentence"
   ]
  },
  {
   "cell_type": "raw",
   "id": "e907d59d-329b-4818-9924-78eb053fa3d5",
   "metadata": {},
   "source": [
    "if condition:\n",
    "    #code if condition is true\n",
    "elif another condition:\n",
    "    # code if condition is true\n",
    "else:\n",
    "    #if condition does not fillfull all the necessary conditions"
   ]
  },
  {
   "cell_type": "code",
   "execution_count": 2,
   "id": "b3bbfa3a-acc2-4de1-b911-58a244f9c16e",
   "metadata": {},
   "outputs": [
    {
     "name": "stdin",
     "output_type": "stream",
     "text": [
      "Enter the age of person 23\n"
     ]
    }
   ],
   "source": [
    "#simple if\n",
    "age=int(input(\"Enter the age of person\"))\n",
    "if age>=50:\n",
    "    print(\"old person\")"
   ]
  },
  {
   "cell_type": "code",
   "execution_count": 3,
   "id": "9c83bf34-97cf-4b9d-90bd-c6c645a3c349",
   "metadata": {},
   "outputs": [
    {
     "name": "stdin",
     "output_type": "stream",
     "text": [
      "Enter the age of person 34\n"
     ]
    },
    {
     "name": "stdout",
     "output_type": "stream",
     "text": [
      "childhood\n"
     ]
    }
   ],
   "source": [
    "#simple if elif\n",
    "age=int(input(\"Enter the age of person\"))\n",
    "if age>=50:\n",
    "    print(\"Old\")\n",
    "elif age<=49:\n",
    "    print(\"childhood\")\n",
    "    "
   ]
  },
  {
   "cell_type": "code",
   "execution_count": 5,
   "id": "93af8ec8-5e4b-4ca4-9ab2-f4df400eaadd",
   "metadata": {},
   "outputs": [
    {
     "name": "stdin",
     "output_type": "stream",
     "text": [
      "Enter the number1 23\n",
      "Enter the number2 34\n",
      "Enter the operators /\n"
     ]
    },
    {
     "name": "stdout",
     "output_type": "stream",
     "text": [
      "0.6764705882352942\n"
     ]
    }
   ],
   "source": [
    "#simple if elif else\n",
    "#calculator\n",
    "num1=int(input(\"Enter the number1\"))\n",
    "num2=int(input(\"Enter the number2\"))\n",
    "opr=input(\"Enter the operators\")\n",
    "if opr==\"+\":\n",
    "    print(num1+num2)\n",
    "elif opr==\"-\":\n",
    "    print(num1-num2)\n",
    "elif opr==\"*\":\n",
    "    print(num1*num2)\n",
    "elif opr==\"/\":\n",
    "    print(num1/num2)\n",
    "else:\n",
    "    print(\"oper does not exit\")"
   ]
  },
  {
   "cell_type": "markdown",
   "id": "b5a01cbe-6afe-4cd2-85ae-20be0dec13aa",
   "metadata": {},
   "source": [
    "# Task"
   ]
  },
  {
   "cell_type": "code",
   "execution_count": 10,
   "id": "ae77a48d-0264-45e9-ab2c-f35c5e484b39",
   "metadata": {},
   "outputs": [
    {
     "name": "stdin",
     "output_type": "stream",
     "text": [
      "Enter the number 0\n"
     ]
    },
    {
     "name": "stdout",
     "output_type": "stream",
     "text": [
      "zero\n"
     ]
    }
   ],
   "source": [
    "#Take the number from the user\n",
    "number=int(input(\"Enter the number\"))\n",
    "#Check if it is positive negative or zero\n",
    "if number>=1:\n",
    "    print(\"Positive\")\n",
    "elif number<=-1:\n",
    "    print(\"Negative\")\n",
    "else:\n",
    "    print(\"zero\")"
   ]
  },
  {
   "cell_type": "code",
   "execution_count": 11,
   "id": "96b38c5c-b65a-4cb2-a5b7-c815ffc69065",
   "metadata": {},
   "outputs": [
    {
     "name": "stdin",
     "output_type": "stream",
     "text": [
      "Enter the marks of the students 10\n"
     ]
    },
    {
     "name": "stdout",
     "output_type": "stream",
     "text": [
      "fail\n"
     ]
    }
   ],
   "source": [
    "#take marks from the user and print pass or fail\n",
    "marks=float(input(\"Enter the marks of the students\"))\n",
    "if marks>=33:\n",
    "    print(\"Pass\")\n",
    "else:\n",
    "    print(\"fail\")"
   ]
  },
  {
   "cell_type": "code",
   "execution_count": null,
   "id": "556834bf-5e37-4c62-94bc-f722b3efb40e",
   "metadata": {},
   "outputs": [],
   "source": []
  },
  {
   "cell_type": "code",
   "execution_count": null,
   "id": "3cde188e-6e80-4d63-8f0f-ae071a815792",
   "metadata": {},
   "outputs": [],
   "source": []
  }
 ],
 "metadata": {
  "kernelspec": {
   "display_name": "Python 3 (ipykernel)",
   "language": "python",
   "name": "python3"
  },
  "language_info": {
   "codemirror_mode": {
    "name": "ipython",
    "version": 3
   },
   "file_extension": ".py",
   "mimetype": "text/x-python",
   "name": "python",
   "nbconvert_exporter": "python",
   "pygments_lexer": "ipython3",
   "version": "3.13.5"
  }
 },
 "nbformat": 4,
 "nbformat_minor": 5
}
