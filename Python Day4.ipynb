{
 "cells": [
  {
   "cell_type": "markdown",
   "id": "113938fc-0285-431f-8c79-f78a2ed92196",
   "metadata": {},
   "source": [
    "# Operator in Pyhton\n",
    "This will tell us to apply some information on veriable and  numbers"
   ]
  },
  {
   "cell_type": "markdown",
   "id": "61983d5f-06cb-4aca-ad89-353df684ae93",
   "metadata": {},
   "source": [
    "# Arthimatic Operation\n",
    "This like a mathimaticaly like oprtaion"
   ]
  },
  {
   "cell_type": "code",
   "execution_count": 3,
   "id": "65a39259-321a-406c-ac5c-16269c1f6f57",
   "metadata": {},
   "outputs": [
    {
     "name": "stdout",
     "output_type": "stream",
     "text": [
      "90\n",
      "44\n",
      "1794\n",
      "3\n",
      "1.4782608695652173\n",
      "9\n"
     ]
    }
   ],
   "source": [
    "#Arthimatic Operators\n",
    "a=12\n",
    "b=23\n",
    "c=34\n",
    "d=78\n",
    "#addition\n",
    "print(a+d)\n",
    "#subtraction\n",
    "print(d-c)\n",
    "#Multiplication\n",
    "print(d*b)\n",
    "#floor division\n",
    "print(d//b)\n",
    "#division\n",
    "print(c/b)\n",
    "#Remaider\n",
    "print(d%b)"
   ]
  },
  {
   "cell_type": "markdown",
   "id": "785c981e-598f-422f-99ce-554d57dd3ae8",
   "metadata": {},
   "source": [
    "# Comparison Operators\n",
    "This will help us to comapare the diffrent values on the basis of conditions                                                                           \n",
    "> grater than\n",
    ">= greater than and equal to\n",
    "<= less than and equal to\n",
    "< less than\n",
    "== equal to\n",
    "!= not equal to\n"
   ]
  },
  {
   "cell_type": "code",
   "execution_count": 4,
   "id": "05f6ef22-9e60-4921-939a-e6def0a088e3",
   "metadata": {},
   "outputs": [
    {
     "name": "stdout",
     "output_type": "stream",
     "text": [
      "False\n",
      "True\n",
      "False\n",
      "True\n",
      "True\n",
      "False\n"
     ]
    }
   ],
   "source": [
    "print(a==b)\n",
    "print(a!=b)\n",
    "print(d<c)\n",
    "print(d>c)\n",
    "print(d>=b)\n",
    "print(d<=b)"
   ]
  },
  {
   "cell_type": "markdown",
   "id": "fd514613-46ce-460e-8809-6dab9e34afd5",
   "metadata": {},
   "source": [
    "# Logic operators\n",
    "This will show certain condition on two values\n",
    "and\n",
    "or\n",
    "not"
   ]
  },
  {
   "cell_type": "code",
   "execution_count": 5,
   "id": "4c536b46-af7a-411a-a7e0-a212916ac890",
   "metadata": {},
   "outputs": [
    {
     "name": "stdout",
     "output_type": "stream",
     "text": [
      "False\n",
      "True\n",
      "False\n"
     ]
    }
   ],
   "source": [
    "#and use when two condition are true\n",
    "print(a>b and c>d)\n",
    "#or use when one is true\n",
    "print(d>b or d<a)\n",
    "#not use when condition is both are false\n",
    "print(not(d>b and d>a))"
   ]
  },
  {
   "cell_type": "code",
   "execution_count": null,
   "id": "47712f07-a36c-48aa-b8a4-cb3033d8c575",
   "metadata": {},
   "outputs": [],
   "source": []
  }
 ],
 "metadata": {
  "kernelspec": {
   "display_name": "Python 3 (ipykernel)",
   "language": "python",
   "name": "python3"
  },
  "language_info": {
   "codemirror_mode": {
    "name": "ipython",
    "version": 3
   },
   "file_extension": ".py",
   "mimetype": "text/x-python",
   "name": "python",
   "nbconvert_exporter": "python",
   "pygments_lexer": "ipython3",
   "version": "3.13.5"
  }
 },
 "nbformat": 4,
 "nbformat_minor": 5
}
