{
 "cells": [
  {
   "cell_type": "markdown",
   "id": "0c3a342d-96a6-4b31-86cb-17513f5c03e7",
   "metadata": {},
   "source": [
    "# User input and getting input from user\n",
    "This is used for to get someinformation from the users"
   ]
  },
  {
   "cell_type": "code",
   "execution_count": 9,
   "id": "38c2d6aa-51f1-4897-8d48-0cd07cae4bd3",
   "metadata": {},
   "outputs": [
    {
     "name": "stdin",
     "output_type": "stream",
     "text": [
      "Enter the Name of person Nadeem Hussain\n",
      "Enter your age 19\n"
     ]
    },
    {
     "name": "stdout",
     "output_type": "stream",
     "text": [
      "My name is Nadeem Hussain, I am 19 years old\n"
     ]
    }
   ],
   "source": [
    "#input user\n",
    "name=str(input(\"Enter the Name of person\"))\n",
    "age=int(input(\"Enter your age\"))\n",
    "get_message=str(f\"My name is {name}, I am {age} years old\")\n",
    "print(get_message)"
   ]
  },
  {
   "cell_type": "markdown",
   "id": "c8d7ebdb-58de-4adf-a3e7-8e7d641987cf",
   "metadata": {},
   "source": [
    "# Task\n",
    "1 Suggest the name and age of person and combine by f string                                                                                                 \n",
    "2 Get two numbers from users and get also sum of the numbers"
   ]
  },
  {
   "cell_type": "code",
   "execution_count": 1,
   "id": "b9920561-d93f-4ffa-bae8-3259d39a16ca",
   "metadata": {},
   "outputs": [
    {
     "name": "stdin",
     "output_type": "stream",
     "text": [
      "Enter your Name Muhammad\n",
      "Enter your Age 13\n"
     ]
    },
    {
     "name": "stdout",
     "output_type": "stream",
     "text": [
      "My name is Muhammad , I am 13 years old\n"
     ]
    }
   ],
   "source": [
    "#task1\n",
    "name=str(input(\"Enter your Name\"))\n",
    "age=int(input(\"Enter your Age\"))\n",
    "print(f\"My name is {name} , I am {age} years old\")"
   ]
  },
  {
   "cell_type": "code",
   "execution_count": 3,
   "id": "f3a5a12e-7266-4992-8ebf-8771847f4e61",
   "metadata": {},
   "outputs": [
    {
     "name": "stdin",
     "output_type": "stream",
     "text": [
      "Enter the number1 12\n",
      "Enter the number2 13\n"
     ]
    },
    {
     "name": "stdout",
     "output_type": "stream",
     "text": [
      "25\n"
     ]
    }
   ],
   "source": [
    "#task2\n",
    "num1=int(input(\"Enter the number1\"))\n",
    "num2=int(input(\"Enter the number2\"))\n",
    "sum=num1+num2\n",
    "print(sum)"
   ]
  },
  {
   "cell_type": "code",
   "execution_count": null,
   "id": "630d53b0-05a4-409b-b9b8-6ed25fa6aaaa",
   "metadata": {},
   "outputs": [],
   "source": []
  }
 ],
 "metadata": {
  "kernelspec": {
   "display_name": "Python 3 (ipykernel)",
   "language": "python",
   "name": "python3"
  },
  "language_info": {
   "codemirror_mode": {
    "name": "ipython",
    "version": 3
   },
   "file_extension": ".py",
   "mimetype": "text/x-python",
   "name": "python",
   "nbconvert_exporter": "python",
   "pygments_lexer": "ipython3",
   "version": "3.13.5"
  }
 },
 "nbformat": 4,
 "nbformat_minor": 5
}
