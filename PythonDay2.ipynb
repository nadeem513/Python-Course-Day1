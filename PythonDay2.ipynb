{
 "cells": [
  {
   "cell_type": "markdown",
   "id": "ca2e849e-909e-49ce-983f-9fe5924003e6",
   "metadata": {},
   "source": [
    "# Python Day 2\n",
    "This chapter consists of veriables and data types"
   ]
  },
  {
   "cell_type": "markdown",
   "id": "7a768101-7282-4d4a-a20d-0379d9a09767",
   "metadata": {},
   "source": [
    "# Veriable\n",
    "Veriable is a name is used to store values in types\n"
   ]
  },
  {
   "cell_type": "code",
   "execution_count": 1,
   "id": "19c8dc18-0c1a-43b5-a2d7-c01f7a8f4019",
   "metadata": {},
   "outputs": [
    {
     "name": "stdout",
     "output_type": "stream",
     "text": [
      "Nadeem Hussain\n"
     ]
    }
   ],
   "source": [
    "name=\"Nadeem Hussain\"\n",
    "print(name)"
   ]
  },
  {
   "cell_type": "markdown",
   "id": "a70f0c65-24be-49e5-9d66-bc9d7b5bddf5",
   "metadata": {},
   "source": [
    "# String\n",
    "String is just like a veriable but underscore single or double qoutes"
   ]
  },
  {
   "cell_type": "code",
   "execution_count": 2,
   "id": "e02d238f-e7f3-4d25-9f86-704d01354b10",
   "metadata": {},
   "outputs": [
    {
     "name": "stdout",
     "output_type": "stream",
     "text": [
      "Nadeem Hussain\n"
     ]
    }
   ],
   "source": [
    "Name=\"Nadeem Hussain\"\n",
    "print(Name)"
   ]
  },
  {
   "cell_type": "markdown",
   "id": "58e011d5-48b3-41d4-9cb2-3181d7bd15b4",
   "metadata": {},
   "source": [
    "# DataType\n",
    "Integer,float,bolean"
   ]
  },
  {
   "cell_type": "code",
   "execution_count": 3,
   "id": "767caa1b-35d6-4ef0-8518-fa3fc539a0cd",
   "metadata": {},
   "outputs": [
    {
     "name": "stdout",
     "output_type": "stream",
     "text": [
      "14\n"
     ]
    }
   ],
   "source": [
    "old=14 # integer\n",
    "print(old)"
   ]
  },
  {
   "cell_type": "code",
   "execution_count": 4,
   "id": "d5896ab0-2cf1-4888-be10-9de4632d8a38",
   "metadata": {},
   "outputs": [],
   "source": [
    "b=True # bolean"
   ]
  },
  {
   "cell_type": "code",
   "execution_count": 5,
   "id": "8d28b35d-0551-4c0b-816c-9e86f9a1c076",
   "metadata": {},
   "outputs": [
    {
     "name": "stdout",
     "output_type": "stream",
     "text": [
      "3.88\n"
     ]
    }
   ],
   "source": [
    "float=3.88\n",
    "print(float)"
   ]
  },
  {
   "cell_type": "markdown",
   "id": "c368c2d0-4e6b-4bce-b9a0-b220a47924ac",
   "metadata": {},
   "source": [
    "# Type Casting\n",
    "Chech the which type of veriable is"
   ]
  },
  {
   "cell_type": "code",
   "execution_count": 6,
   "id": "e56400b7-f735-414c-9a24-c17ad6df3402",
   "metadata": {},
   "outputs": [
    {
     "name": "stdout",
     "output_type": "stream",
     "text": [
      "<class 'bool'>\n"
     ]
    }
   ],
   "source": [
    "print(type(b))"
   ]
  },
  {
   "cell_type": "code",
   "execution_count": 7,
   "id": "c430389c-3ab2-45b0-805e-771d2cf83422",
   "metadata": {},
   "outputs": [
    {
     "name": "stdout",
     "output_type": "stream",
     "text": [
      "<class 'float'>\n"
     ]
    }
   ],
   "source": [
    "print(type(float))"
   ]
  },
  {
   "cell_type": "code",
   "execution_count": 8,
   "id": "404eadfb-3e10-4fe4-8246-5b35f5672901",
   "metadata": {},
   "outputs": [
    {
     "name": "stdout",
     "output_type": "stream",
     "text": [
      "<class 'int'>\n"
     ]
    }
   ],
   "source": [
    "print(type(old))"
   ]
  },
  {
   "cell_type": "markdown",
   "id": "7771818d-5067-4126-9deb-8447c35b84fa",
   "metadata": {},
   "source": [
    "# Task Day2\n",
    "1. Create one variable for each type: string, integer, float, and boolean.\n",
    "\n",
    "2. Use print() to show the value.\n",
    "\n",
    "3. Use type() to show its data type."
   ]
  },
  {
   "cell_type": "code",
   "execution_count": 11,
   "id": "058fccd3-60db-4feb-af43-33f0fa0e43db",
   "metadata": {},
   "outputs": [],
   "source": [
    "#1\n",
    "name=\"nadeem\"\n",
    "value=10\n",
    "f=3.99\n",
    "b=True"
   ]
  },
  {
   "cell_type": "code",
   "execution_count": 10,
   "id": "1490b0f4-e3d3-4030-b4d0-9697bc491532",
   "metadata": {},
   "outputs": [
    {
     "name": "stdout",
     "output_type": "stream",
     "text": [
      "nadeem\n",
      "10\n",
      "3.99\n",
      "True\n"
     ]
    }
   ],
   "source": [
    "#2\n",
    "print(name)\n",
    "print(value)\n",
    "print(f)\n",
    "print(b)"
   ]
  },
  {
   "cell_type": "code",
   "execution_count": 12,
   "id": "f9236ed9-d058-4ee7-a0f3-215beec3462e",
   "metadata": {},
   "outputs": [
    {
     "name": "stdout",
     "output_type": "stream",
     "text": [
      "<class 'str'>\n",
      "<class 'int'>\n",
      "<class 'float'>\n",
      "<class 'bool'>\n"
     ]
    }
   ],
   "source": [
    "#3\n",
    "print(type(name))\n",
    "print(type(value))\n",
    "print(type(f))\n",
    "print(type(b))"
   ]
  },
  {
   "cell_type": "code",
   "execution_count": null,
   "id": "22fe4eb7-7f4a-41ec-9334-239029c72d98",
   "metadata": {},
   "outputs": [],
   "source": []
  }
 ],
 "metadata": {
  "kernelspec": {
   "display_name": "Python 3 (ipykernel)",
   "language": "python",
   "name": "python3"
  },
  "language_info": {
   "codemirror_mode": {
    "name": "ipython",
    "version": 3
   },
   "file_extension": ".py",
   "mimetype": "text/x-python",
   "name": "python",
   "nbconvert_exporter": "python",
   "pygments_lexer": "ipython3",
   "version": "3.12.7"
  }
 },
 "nbformat": 4,
 "nbformat_minor": 5
}
